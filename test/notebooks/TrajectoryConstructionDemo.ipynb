{
 "cells": [
  {
   "cell_type": "code",
   "execution_count": null,
   "metadata": {},
   "outputs": [],
   "source": [
    "using DataFrames, Gadfly\n",
    "using Vec, LinearAlgebra\n",
    "using GridWorldPathFollowing\n",
    "using GraphUtils"
   ]
  },
  {
   "cell_type": "code",
   "execution_count": null,
   "metadata": {},
   "outputs": [],
   "source": [
    "function plot_traj_with_steps(traj,grid_path;Δt=0.01,pad=0.01)\n",
    "    t_range = get_start_time(traj):Δt:get_end_time(traj)\n",
    "    plot(\n",
    "        layer( x=[get_position(traj,t).x for t in t_range], y=[get_position(traj,t).y for t in t_range],\n",
    "            Geom.path, Theme(default_color=\"black\") ),\n",
    "        layer( x=[get_start_pt(seg).x for seg in traj.segments], y=[get_start_pt(seg).y for seg in traj.segments],\n",
    "            size=[8pt], Geom.point, Theme(default_color=\"red\") ),\n",
    "        layer( x=[get_end_pt(seg).x for seg in traj.segments], y=[get_end_pt(seg).y for seg in traj.segments],\n",
    "            size=[8pt],Geom.point, Theme(default_color=\"yellow\") ),\n",
    "        layer( xmin=map(w->w.pt.x - grid_path.cellwidth/2, grid_path.waypoints) .+ pad,\n",
    "            xmax=map(w->w.pt.x + grid_path.cellwidth/2, grid_path.waypoints) .- pad,\n",
    "            ymin=map(w->w.pt.y - grid_path.cellwidth/2, grid_path.waypoints) .+ pad,\n",
    "            ymax=map(w->w.pt.y + grid_path.cellwidth/2, grid_path.waypoints) .- pad,\n",
    "            Geom.rect ),\n",
    "        Coord.cartesian(fixed=true)\n",
    "    )\n",
    "end\n",
    "function plot_vel_and_yaw_rate(traj;Δt=0.1)\n",
    "    t_vec = collect(get_start_time(traj):Δt:get_end_time(traj))\n",
    "    df = DataFrame(\n",
    "        t=t_vec, \n",
    "        theta=[atan(get_heading(traj,t)) for t in t_vec],\n",
    "        s=[get_dist(traj,t) for t in t_vec], \n",
    "        v=[norm(get_vel(traj,t)) for t in t_vec] )\n",
    "    vstack( plot(df,x=\"t\", y=\"theta\",Geom.path), \n",
    "        plot(df,x=\"t\",y=\"v\",Geom.path,Theme(default_color=\"red\")) )\n",
    "end\n",
    "function plot_accel_vel_pos(traj,t_vec)\n",
    "    t = [[get_start_time(seg) for seg in traj.segments]..., get_end_time(traj)]\n",
    "    cum_d = [0, cumsum([get_length(seg) for seg in traj.segments])...]\n",
    "    vstack(\n",
    "        plot(\n",
    "            layer(x=t_vec[1:end-1],y=accel,Geom.step,Theme(default_color=\"green\")),\n",
    "            layer(x=t_vec,y=vel,Geom.path,Theme(default_color=\"red\")),\n",
    "            Guide.manual_color_key(\"\",[\"accel\",\"vel\"],[\"green\",\"red\"])\n",
    "        ),\n",
    "        plot(\n",
    "            layer(x=t_vec,y=pos,Geom.path,Theme(default_color=\"blue\")),\n",
    "            layer(x = t,y = cum_d,Geom.step,Theme(default_color=\"black\")),\n",
    "            Guide.manual_color_key(\"\",[\"pos\"],[\"blue\"])\n",
    "        )\n",
    "    )\n",
    "end"
   ]
  },
  {
   "cell_type": "code",
   "execution_count": null,
   "metadata": {},
   "outputs": [],
   "source": [
    "start_pt = VecE2(0.0,0.0)\n",
    "start_time = 0.0\n",
    "action_sequence = [SOUTH,EAST,WAIT,NORTH,EAST,WAIT,WAIT,EAST,EAST,SOUTH,SOUTH,WEST,NORTH,WEST,SOUTH,WEST,WEST]\n",
    "# action_sequence = [EAST,WAIT,NORTH,EAST]\n",
    "cell_width = 1.0\n",
    "transition_time = 2.0\n",
    "grid_path = construct_grid_world_path(start_pt,start_time,action_sequence,cell_width,transition_time)\n",
    "\n",
    "traj = construct_trajectory(grid_path)\n",
    "verify(traj)\n",
    "t_vec, accel, vel, pos = optimize_velocity_profile(traj;a_max=1.25);\n",
    "dense_traj = DenseTrajectory(traj,t_vec,accel,vel,pos);"
   ]
  },
  {
   "cell_type": "code",
   "execution_count": null,
   "metadata": {
    "scrolled": false
   },
   "outputs": [],
   "source": [
    "p = plot_traj_with_steps(traj,grid_path)\n",
    "draw(SVG(\"traj_with_steps.svg\"), p)\n",
    "p"
   ]
  },
  {
   "cell_type": "code",
   "execution_count": null,
   "metadata": {},
   "outputs": [],
   "source": [
    "p = plot_vel_and_yaw_rate(traj)\n",
    "draw(SVG(\"vel_and_yaw_rate.svg\"), p)\n",
    "p"
   ]
  },
  {
   "cell_type": "markdown",
   "metadata": {},
   "source": [
    "# Optimize Velocity Profile\n",
    "We apply a polynomial acceleration command in each time window"
   ]
  },
  {
   "cell_type": "code",
   "execution_count": null,
   "metadata": {},
   "outputs": [],
   "source": [
    "t_vec, accel, vel, pos = optimize_velocity_profile(traj;a_max=1.25);"
   ]
  },
  {
   "cell_type": "code",
   "execution_count": null,
   "metadata": {},
   "outputs": [],
   "source": [
    "p = plot_accel_vel_pos(traj,t_vec)\n",
    "draw(SVG(\"accel_vel_pos.svg\"), p)\n",
    "p"
   ]
  },
  {
   "cell_type": "markdown",
   "metadata": {},
   "source": [
    "# Closed-loop tracking of Trajectory with optimized speed profile"
   ]
  },
  {
   "cell_type": "code",
   "execution_count": null,
   "metadata": {},
   "outputs": [],
   "source": [
    "dense_traj = DenseTrajectory(traj,t_vec,accel,vel,pos);"
   ]
  },
  {
   "cell_type": "code",
   "execution_count": null,
   "metadata": {
    "scrolled": false
   },
   "outputs": [],
   "source": [
    "sim_model = UnicycleModel()\n",
    "controller = TrackingController(k0=2.0,k1=2.0)\n",
    "t0 = 0.0\n",
    "tf = get_end_time(dense_traj)\n",
    "dt = 0.05\n",
    "state_pt = get_trajectory_point_by_time(dense_traj, t0)\n",
    "initial_state = [state_pt.pos.x, state_pt.pos.y, atan(state_pt.heading)] + .1*(1 .- rand(3))\n",
    "states, cmds = simulate(sim_model,controller,dense_traj,initial_state,t0,tf,dt)\n",
    "\n",
    "time_vec = collect(t0:dt:tf)\n",
    "errors = Vector{Float64}()\n",
    "for (t,state) in zip(time_vec,states)\n",
    "    target_pt = get_trajectory_point_by_time(dense_traj, t)\n",
    "    target = [target_pt.pos.x, target_pt.pos.y, atan(target_pt.heading)]\n",
    "    push!(errors, norm(target[1:2] - state[1:2]))\n",
    "end\n",
    "\n",
    "p = plot(\n",
    "    layer( x=[s[1] for s in states], y=[s[2] for s in states], Geom.path,Theme(default_color=\"blue\")),\n",
    "    layer( x=[get_position(dense_traj,t).x for t in time_vec], y=[get_position(dense_traj,t).y for t in time_vec],\n",
    "        Geom.path,Theme(default_color=\"red\") ),\n",
    "    Coord.Cartesian(fixed=true)\n",
    ")\n",
    "draw(SVG(\"tracking.svg\"), p)\n",
    "p"
   ]
  },
  {
   "cell_type": "code",
   "execution_count": null,
   "metadata": {},
   "outputs": [],
   "source": [
    "df = DataFrame(t=time_vec[1:end-1],v=[u[2] for u in cmds],w=[u[1] for u in cmds])\n",
    "p = vstack(\n",
    "    plot(df,x=\"t\",y=\"w\",Geom.path),\n",
    "    plot(df,x=\"t\",y=\"v\",Geom.path,Theme(default_color=\"red\"))\n",
    ")\n",
    "draw(SVG(\"control_command_profile.svg\"), p)\n",
    "p"
   ]
  },
  {
   "cell_type": "code",
   "execution_count": null,
   "metadata": {},
   "outputs": [],
   "source": [
    "p = plot( x=collect(1:length(errors)), y=errors, Geom.path )\n",
    "draw(SVG(\"tracking_error.svg\"), p)\n",
    "p"
   ]
  },
  {
   "cell_type": "markdown",
   "metadata": {},
   "source": [
    "# Optimize controller params"
   ]
  },
  {
   "cell_type": "code",
   "execution_count": null,
   "metadata": {},
   "outputs": [],
   "source": [
    "function optimize_controller_params(sim_model,traj,initial_state;\n",
    "        dt=0.1,\n",
    "        k0_range=1.0:0.25:4.0,\n",
    "        k1_range=1.0:0.25:4.0\n",
    "    )\n",
    "    t0 = get_start_time(traj)\n",
    "    tf = get_end_time(traj)\n",
    "\n",
    "    opt_vec = [NaN,NaN]\n",
    "    opt_cost = Inf\n",
    "    for k0 in k0_range\n",
    "        for k1 in k1_range\n",
    "            controller = TrackingController(k0=k0,k1=k1)\n",
    "            states, cmds = simulate(sim_model,controller,traj,initial_state,t0,tf,dt)\n",
    "            err = 0.0\n",
    "            for (t,state) in zip(collect(t0:dt:tf),states)\n",
    "                target_pt = get_trajectory_point_by_time(traj, t)\n",
    "                target = [target_pt.pos.x, target_pt.pos.y, atan(target_pt.heading)]\n",
    "                err += norm(target[1:2] - state[1:2])^2\n",
    "            end\n",
    "            if err < opt_cost\n",
    "                opt_vec = [k0,k1]\n",
    "            end\n",
    "        end\n",
    "    end\n",
    "    opt_vec\n",
    "end"
   ]
  },
  {
   "cell_type": "code",
   "execution_count": null,
   "metadata": {},
   "outputs": [],
   "source": [
    "state_pt = get_trajectory_point_by_time(dense_traj, t0)\n",
    "initial_state = [state_pt.pos.x, state_pt.pos.y, atan(state_pt.heading)] - 0.01*rand(3)\n",
    "optimize_controller_params(sim_model,dense_traj,initial_state)"
   ]
  },
  {
   "cell_type": "markdown",
   "metadata": {},
   "source": [
    "# Tracking stationary spinning paths--does it work?"
   ]
  },
  {
   "cell_type": "code",
   "execution_count": null,
   "metadata": {},
   "outputs": [],
   "source": [
    "c = VecE2(0.0,0.0)\n",
    "r = 0.0\n",
    "θ1 = 0.0\n",
    "w = 1.0\n",
    "dt = 1.0\n",
    "T = 4\n",
    "traj = Trajectory([ArcTrajectory(c,r,θ1+w*(t-1)*dt,w*dt,TimeInterval(dt*(t-1),dt*t)) for t in 1:T])\n",
    "verify(traj)\n",
    "\n",
    "# t_vec = collect(0.0:0.01:T)\n",
    "# accel = zeros(length(t_vec)-1)\n",
    "# vel = zeros(length(t_vec))\n",
    "# pos = zeros(length(t_vec))\n",
    "# dense_traj = DenseTrajectory(traj,t_vec,accel,vel,pos)\n",
    "# verify(dense_traj)"
   ]
  },
  {
   "cell_type": "code",
   "execution_count": null,
   "metadata": {},
   "outputs": [],
   "source": [
    "plot(x=collect(0:0.01:T),y=[atan(get_heading(traj,t)) for t in collect(0:0.01:T)])"
   ]
  },
  {
   "cell_type": "code",
   "execution_count": null,
   "metadata": {},
   "outputs": [],
   "source": [
    "sim_model = UnicycleModel()\n",
    "controller = TrackingController(k0=2.0,k1=2.0)\n",
    "t0 = 0.0\n",
    "tf = get_end_time(traj)\n",
    "dt = 0.05\n",
    "state_pt = get_trajectory_point_by_time(traj, t0)\n",
    "initial_state = [state_pt.pos.x, state_pt.pos.y, atan(state_pt.heading)] + 0.001*rand(3)\n",
    "states, cmds = simulate(sim_model,controller,traj,initial_state,t0,tf,dt)\n",
    "\n",
    "time_vec = collect(t0:dt:tf)\n",
    "errors = Vector{Float64}()\n",
    "for (t,state) in zip(time_vec,states)\n",
    "    target_pt = get_trajectory_point_by_time(traj, t)\n",
    "    target = [target_pt.pos.x, target_pt.pos.y, atan(target_pt.heading)]\n",
    "    push!(errors, norm(target[1:2] - state[1:2]))\n",
    "end\n",
    "\n",
    "df = DataFrame(\n",
    "    t=time_vec,\n",
    "    θ=[wrap_to_pi(s[3]) for s in states[1:length(time_vec)]],\n",
    "    θ_des=[atan(get_heading(traj,t)) for t in time_vec]\n",
    ")\n",
    "\n",
    "p = plot(\n",
    "    layer(df, x=\"t\", y=\"θ\", Geom.path,Theme(default_color=\"blue\")),\n",
    "    layer(df, x=\"t\", y=\"θ_des\",Geom.path,Theme(default_color=\"red\") ),\n",
    "    Coord.Cartesian(fixed=true),Guide.manual_color_key(\"\",[\"θ\",\"θ_des\"],[\"blue\",\"red\"])\n",
    ")"
   ]
  },
  {
   "cell_type": "markdown",
   "metadata": {},
   "source": [
    "# Track a Multi-Stage Composite Path with a turn-in-place in the middle"
   ]
  },
  {
   "cell_type": "code",
   "execution_count": null,
   "metadata": {},
   "outputs": [],
   "source": [
    "function stitch_trajectories(traj1::Trajectory,traj2::Trajectory;buffer=[0.0,0.0])\n",
    "    @assert norm(get_end_pt(traj1) - get_start_pt(traj2)) < 0.000001 \"start and end points do not align\"\n",
    "    @assert buffer[1]+buffer[2] <= get_start_time(traj2) - get_end_time(traj1)\n",
    "    θ1 = atan(get_heading(traj1,get_end_time(traj1)))\n",
    "    θ2 = atan(get_heading(traj2,get_start_time(traj2)))\n",
    "    Δθ = get_angular_offset(θ1,θ2)\n",
    "    seg1 = StraightTrajectory(\n",
    "        get_end_pt(traj1), \n",
    "        get_heading(traj1,get_end_time(traj1)), \n",
    "        0.0,\n",
    "        TimeInterval(get_end_time(traj1),get_end_time(traj1)+buffer[1]))\n",
    "    seg3 = WaitTrajectory(\n",
    "        get_start_pt(traj2), \n",
    "        get_heading(traj2,get_start_time(traj2)), \n",
    "        TimeInterval(get_start_time(traj2)-buffer[2],get_start_time(traj2)))\n",
    "    seg2 = ArcTrajectory(\n",
    "        get_end_pt(seg1),\n",
    "        get_end_pt(seg1), \n",
    "        get_heading(seg1,get_end_time(seg1)),\n",
    "        Δθ,TimeInterval(get_end_time(seg1),get_start_time(seg3)))\n",
    "    traj = Trajectory()\n",
    "    for seg in traj1.segments\n",
    "        push!(traj, seg)\n",
    "    end\n",
    "    push!(traj, seg1)\n",
    "    push!(traj, seg2)\n",
    "    push!(traj, seg3)\n",
    "    for seg in traj2.segments\n",
    "        push!(traj, seg)\n",
    "    end\n",
    "    return traj\n",
    "end"
   ]
  },
  {
   "cell_type": "code",
   "execution_count": null,
   "metadata": {},
   "outputs": [],
   "source": [
    "cell_width = 1.0\n",
    "transition_time = 2.0\n",
    "grid_path1 = construct_grid_world_path(VecE2(0.0,0.0),0.0,\n",
    "    [SOUTH,EAST,WAIT,NORTH,WAIT],cell_width,transition_time)\n",
    "traj1 = construct_trajectory(grid_path1)\n",
    "Δt = 2.0 # time between end of traj1 and start of traj2\n",
    "grid_path2 = construct_grid_world_path(get_end_pt(traj1),get_end_time(traj1)+Δt,\n",
    "    [WAIT,EAST,SOUTH,EAST,WAIT,NORTH],cell_width,transition_time)\n",
    "traj2 = construct_trajectory(grid_path2)\n",
    "\n",
    "traj = stitch_trajectories(traj1,traj2;buffer=[0.1,0.1])\n",
    "# traj_join = Trajectory()\n",
    "# θ1 = atan(get_heading(traj1,get_end_time(traj1)))\n",
    "# θ2 = atan(get_heading(traj2,get_start_time(traj2)))\n",
    "# Δθ = get_angular_offset(θ1,θ2)\n",
    "\n",
    "# push!(traj_join, ArcTrajectory(get_end_pt(traj1),get_end_pt(traj1),get_heading(traj1,get_end_time(traj1)),Δθ,\n",
    "#         TimeInterval(get_end_time(traj1),get_start_time(traj2))))\n",
    "\n",
    "# traj = Trajectory()\n",
    "# for seg in traj1.segments\n",
    "#     push!(traj, seg)\n",
    "# end\n",
    "# for seg in traj_join.segments\n",
    "#     push!(traj, seg)\n",
    "# end\n",
    "# for seg in traj2.segments\n",
    "#     push!(traj, seg)\n",
    "# end\n",
    "verify(traj)\n",
    "\n",
    "t_vec, accel, vel, pos = optimize_velocity_profile(traj;a_max=1.25);\n",
    "dense_traj = DenseTrajectory(traj,t_vec,accel,vel,pos);"
   ]
  },
  {
   "cell_type": "code",
   "execution_count": null,
   "metadata": {},
   "outputs": [],
   "source": [
    "sim_model = UnicycleModel()\n",
    "# controller = TrackingController(k0=4.0,k1=4.0,ϵ=1.0)\n",
    "controller = SwitchingController()\n",
    "t0 = 0.0\n",
    "tf = get_end_time(dense_traj)\n",
    "dt = 0.05\n",
    "state_pt = get_trajectory_point_by_time(dense_traj, t0)\n",
    "initial_state = [state_pt.pos.x, state_pt.pos.y, atan(state_pt.heading)] + 0.01*rand(3)\n",
    "states, cmds = simulate(sim_model,controller,dense_traj,initial_state,t0,tf,dt)\n",
    "\n",
    "time_vec = collect(t0:dt:tf)\n",
    "errors = Vector{Float64}()\n",
    "for (t,state) in zip(time_vec,states)\n",
    "    target_pt = get_trajectory_point_by_time(dense_traj, t)\n",
    "    target = [target_pt.pos.x, target_pt.pos.y, atan(target_pt.heading)]\n",
    "    push!(errors, norm(target[1:2] - state[1:2]))\n",
    "end\n",
    "\n",
    "p = plot(\n",
    "    layer( x=[s[1] for s in states], y=[s[2] for s in states], Geom.path,Theme(default_color=\"blue\")),\n",
    "    layer( x=[get_position(dense_traj,t).x for t in time_vec], y=[get_position(dense_traj,t).y for t in time_vec],\n",
    "        Geom.path,Theme(default_color=\"red\") ),\n",
    "    Coord.Cartesian(fixed=true)\n",
    ")"
   ]
  },
  {
   "cell_type": "code",
   "execution_count": null,
   "metadata": {},
   "outputs": [],
   "source": [
    "plot_traj_with_steps(traj,grid_path1)"
   ]
  },
  {
   "cell_type": "code",
   "execution_count": null,
   "metadata": {},
   "outputs": [],
   "source": [
    "df = DataFrame(\n",
    "    t=time_vec,\n",
    "    θ=[wrap_to_pi(s[3]) for s in states[1:length(time_vec)]],\n",
    "    θ_des=[atan(get_heading(traj,t)) for t in time_vec]\n",
    ")\n",
    "\n",
    "p = plot(\n",
    "    layer(df, x=\"t\", y=\"θ\", Geom.path,Theme(default_color=\"blue\")),\n",
    "    layer(df, x=\"t\", y=\"θ_des\",Geom.path,Theme(default_color=\"red\")),\n",
    "    Coord.Cartesian(fixed=true),Guide.manual_color_key(\"\",[\"θ\",\"θ_des\"],[\"blue\",\"red\"])\n",
    ")"
   ]
  },
  {
   "cell_type": "code",
   "execution_count": null,
   "metadata": {},
   "outputs": [],
   "source": [
    "traj"
   ]
  }
 ],
 "metadata": {
  "@webio": {
   "lastCommId": null,
   "lastKernelId": null
  },
  "kernelspec": {
   "display_name": "Julia 1.0.2",
   "language": "julia",
   "name": "julia-1.0"
  },
  "language_info": {
   "file_extension": ".jl",
   "mimetype": "application/julia",
   "name": "julia",
   "version": "1.0.2"
  }
 },
 "nbformat": 4,
 "nbformat_minor": 2
}
