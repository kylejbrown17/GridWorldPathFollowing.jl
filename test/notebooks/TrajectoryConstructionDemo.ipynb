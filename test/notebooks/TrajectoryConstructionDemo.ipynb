{
 "cells": [
  {
   "cell_type": "code",
   "execution_count": 1,
   "metadata": {},
   "outputs": [
    {
     "name": "stderr",
     "output_type": "stream",
     "text": [
      "┌ Info: Loading DataFrames support into Gadfly.jl\n",
      "└ @ Gadfly /home/kylebrown/.julia/packages/Gadfly/09PWZ/src/mapping.jl:228\n"
     ]
    }
   ],
   "source": [
    "using DataFrames, Gadfly\n",
    "using Vec, LinearAlgebra\n",
    "using GridWorldPathFollowing\n",
    "using GraphUtils"
   ]
  },
  {
   "cell_type": "code",
   "execution_count": 2,
   "metadata": {},
   "outputs": [
    {
     "data": {
      "text/plain": [
       "summarize_simulation (generic function with 1 method)"
      ]
     },
     "execution_count": 2,
     "metadata": {},
     "output_type": "execute_result"
    }
   ],
   "source": [
    "function plot_traj_with_steps(traj,grid_path;Δt=0.01,pad=0.01)\n",
    "    t_range = get_start_time(traj):Δt:get_end_time(traj)\n",
    "    cw = grid_path.cellwidth/2 - pad\n",
    "    xpts = [map(w->w.pt.x, grid_path.waypoints)..., grid_path.start_pt.x]\n",
    "    ypts = [map(w->w.pt.y, grid_path.waypoints)..., grid_path.start_pt.y]\n",
    "    plot(\n",
    "        layer( x=[get_position(traj,t).x for t in t_range], y=[get_position(traj,t).y for t in t_range],\n",
    "            Geom.path, Theme(default_color=\"black\") ),\n",
    "        layer( x=[get_start_pt(seg).x for seg in traj.segments], y=[get_start_pt(seg).y for seg in traj.segments],\n",
    "            size=[8pt], Geom.point, Theme(default_color=\"red\") ),\n",
    "        layer( x=[get_end_pt(seg).x for seg in traj.segments], y=[get_end_pt(seg).y for seg in traj.segments],\n",
    "            size=[8pt],Geom.point, Theme(default_color=\"yellow\") ),\n",
    "        layer( xmin=xpts .- cw, xmax=xpts .+ cw, ymin=ypts .- cw, ymax=ypts .+ cw, Geom.rect ),\n",
    "        Coord.cartesian(fixed=true)\n",
    "    )\n",
    "end\n",
    "function compare_velocity_profiles(traj1,traj2;Δt=0.05)\n",
    "    t0 = max(get_start_time(traj1),get_start_time(traj2))\n",
    "    tf = min(get_end_time(traj1),get_end_time(traj2))\n",
    "    @assert t0 < tf \"trajectories do not overlap\"\n",
    "    t_vec = collect(get_start_time(base_traj):Δt:get_end_time(base_traj))\n",
    "    df = DataFrame(\n",
    "        t=t_vec, \n",
    "        v1=[norm(get_vel(traj1,t)) for t in t_vec],\n",
    "        v2=[norm(get_vel(traj2,t)) for t in t_vec],\n",
    "    )\n",
    "    plot(\n",
    "        layer(df,x=\"t\",y=\"v2\",Geom.path,Theme(default_color=\"red\")),\n",
    "        layer(df,x=\"t\",y=\"v1\",Geom.path,Theme(default_color=\"black\")),\n",
    "        Guide.manual_color_key(\"\",[\"v1\",\"v2\"],[\"black\",\"red\"])\n",
    "    )\n",
    "end\n",
    "function plot_vel_and_yaw_rate(traj;Δt=0.1)\n",
    "    t_vec = collect(get_start_time(traj):Δt:get_end_time(traj))\n",
    "    df = DataFrame(\n",
    "        t=t_vec, \n",
    "        theta=[atan(get_heading(traj,t)) for t in t_vec],\n",
    "        s=[get_dist(traj,t) for t in t_vec], \n",
    "        v=[norm(get_vel(traj,t)) for t in t_vec] )\n",
    "    vstack( plot(df,x=\"t\", y=\"theta\",Geom.path), \n",
    "        plot(df,x=\"t\",y=\"v\",Geom.path,Theme(default_color=\"red\")) )\n",
    "end\n",
    "function plot_accel_vel_pos(base_traj,traj,t_vec,accel,vel,pos)\n",
    "    df = DataFrame(\n",
    "        t = t_vec,\n",
    "        a = [accel..., 0.0],\n",
    "        v = vel,\n",
    "        v1=map(t->norm(get_vel(base_traj,t)),t_vec),\n",
    "        s = pos\n",
    "    )\n",
    "    df2 = DataFrame(\n",
    "        t = [[get_start_time(seg) for seg in traj.segments]..., get_end_time(traj)],\n",
    "        s = [0, cumsum([get_length(seg) for seg in traj.segments])...]\n",
    "    )\n",
    "#     vstack(\n",
    "        plot(\n",
    "            layer(df,x=\"t\",y=\"a\",Geom.step,Theme(default_color=\"green\")),\n",
    "            layer(df,x=\"t\",y=\"v\",Geom.path,Theme(default_color=\"red\")),\n",
    "            layer(df,x=\"t\",y=\"v1\",Geom.path,Theme(default_color=\"black\")),\n",
    "            Guide.manual_color_key(\"\",[\"accel\",\"vel_opt\",\"vel\"],[\"green\",\"red\",\"black\"])\n",
    "        )\n",
    "#         plot(\n",
    "#             layer(df,x=\"t\",y=\"s\",Geom.path,Theme(default_color=\"blue\")),\n",
    "#             layer(df2,x=\"t\",y=\"s\",Geom.point,Theme(default_color=\"orange\")),\n",
    "#             Guide.manual_color_key(\"\",[\"distance\",\"constraints\"],[\"blue\",\"orange\"])\n",
    "#         )\n",
    "#     )\n",
    "end\n",
    "function summarize_simulation(traj,states,cmds,time_vec)\n",
    "    if length(time_vec) < length(states)\n",
    "        time_vec = [time_vec..., 2*time_vec[end]-time_vec[end-1]]\n",
    "    end\n",
    "    errors = Vector{Vector{Float64}}()\n",
    "    for (t,state) in zip(time_vec,states)\n",
    "        target_pt = get_trajectory_point_by_time(traj, t)\n",
    "        target = [target_pt.pos.x, target_pt.pos.y, atan(target_pt.heading)]\n",
    "        push!(errors, [target[1]-state[1],target[2]-state[2],get_angular_offset(state[3],target[3])])\n",
    "    end\n",
    "    df = DataFrame(\n",
    "        t=time_vec,\n",
    "        w=[map(u->u[1],cmds)...,0.0],\n",
    "        v=[map(u->u[2],cmds)...,0.0],\n",
    "        wr=map(t->get_yaw_rate(traj,t),time_vec),\n",
    "        vr=map(t->norm(get_vel(traj,t)),time_vec),\n",
    "        x=map(s->s[1],states[1:length(time_vec)]),\n",
    "        y=map(s->s[2],states[1:length(time_vec)]),\n",
    "        θ=map(s->wrap_to_pi(s[3]),states[1:length(time_vec)]),\n",
    "        xr=map(t->get_position(traj,t).x,time_vec),\n",
    "        yr=map(t->get_position(traj,t).y,time_vec),\n",
    "        θr=map(t->atan(get_heading(traj,t)),time_vec),\n",
    "        ex=map(e->e[1],errors),\n",
    "        ey=map(e->e[2],errors),\n",
    "        eθ=map(e->e[3],errors)\n",
    "    )\n",
    "    hstack(\n",
    "            vstack(\n",
    "                plot(\n",
    "                    layer(df,x=\"x\",y=\"y\",Geom.path,Theme(default_color=\"blue\")),\n",
    "                    layer(x=[states[1][1]],y=[states[1][2]],Geom.point,Theme(default_color=\"blue\")),\n",
    "                    layer(df,x=\"xr\",y=\"yr\",Geom.path,Theme(default_color=\"red\")),\n",
    "                    layer(x=[get_position(traj,time_vec[1]).x],\n",
    "                        y=[get_position(traj,time_vec[1]).y],Geom.point,Theme(default_color=\"red\")),\n",
    "                    Coord.Cartesian(fixed=true),\n",
    "                    Guide.manual_color_key(\"\",[\"true\",\"ref\"],[\"blue\",\"red\"])\n",
    "                )\n",
    "            ),\n",
    "            vstack(\n",
    "                plot(\n",
    "                    layer(df,x=\"t\",y=\"w\",Geom.path,Theme(default_color=\"red\")),\n",
    "                    layer(df,x=\"t\",y=\"wr\",Geom.path,Theme(default_color=\"black\")),\n",
    "                    Guide.manual_color_key(\"\",[\"w\",\"wref\"],[\"red\",\"black\"]) ),\n",
    "                plot(\n",
    "                    layer(df,x=\"t\",y=\"v\",Geom.path,Theme(default_color=\"blue\")),\n",
    "                    layer(df,x=\"t\",y=\"vr\",Geom.path,Theme(default_color=\"black\")),\n",
    "                    Guide.manual_color_key(\"\",[\"v\",\"vref\"],[\"blue\",\"black\"]) ),\n",
    "                plot(\n",
    "                    layer(df,x=\"t\",y=\"ex\",Geom.path,Theme(default_color=\"blue\")),\n",
    "                    layer(df,x=\"t\",y=\"ey\",Geom.path,Theme(default_color=\"red\")),\n",
    "                    layer(df,x=\"t\",y=\"eθ\",Geom.path,Theme(default_color=\"green\")),\n",
    "                    Guide.manual_color_key(\"\",[\"ex\",\"ey\",\"eθ\"],[\"blue\",\"red\",\"green\"]) )\n",
    "            )\n",
    "        )\n",
    "end"
   ]
  },
  {
   "cell_type": "code",
   "execution_count": 3,
   "metadata": {},
   "outputs": [],
   "source": [
    "start_pt = VecE2(0.0,0.0)\n",
    "start_time = 0.0\n",
    "action_sequence = [SOUTH,EAST,WAIT,NORTH,EAST,WAIT,WAIT,EAST,EAST,SOUTH,SOUTH,WEST,NORTH,WEST,SOUTH,WEST,WEST]\n",
    "# action_sequence = [EAST,WAIT,NORTH,EAST]\n",
    "cell_width = 0.5\n",
    "transition_time = 2.0\n",
    "grid_path = construct_grid_world_path(start_pt,start_time,action_sequence,cell_width,transition_time)\n",
    "\n",
    "base_traj = construct_trajectory(grid_path)\n",
    "verify(base_traj)\n",
    "capped_traj = cap_trajectory(base_traj)\n",
    "verify(capped_traj)\n",
    "# Optimize Velocity Profile\n",
    "traj, t_vec, accel, vel, pos = optimize_velocity_profile(capped_traj;a_max=1.25);\n",
    "verify(traj);"
   ]
  },
  {
   "cell_type": "code",
   "execution_count": null,
   "metadata": {
    "scrolled": true
   },
   "outputs": [],
   "source": [
    "set_default_plot_size(25cm,8cm)\n",
    "hstack(\n",
    "    plot_traj_with_steps(base_traj,grid_path),\n",
    "    plot_accel_vel_pos(base_traj,traj,t_vec,accel,vel,pos)\n",
    ")"
   ]
  },
  {
   "cell_type": "markdown",
   "metadata": {},
   "source": [
    "# Closed-loop tracking of Trajectory with optimized speed profile"
   ]
  },
  {
   "cell_type": "code",
   "execution_count": null,
   "metadata": {},
   "outputs": [],
   "source": [
    "t0 = get_start_time(traj)\n",
    "get_dist(traj, t0),\n",
    "get_position(traj,t0),\n",
    "get_heading(traj,t0),\n",
    "get_vel(traj, t0),\n",
    "get_yaw_rate(traj,t0)"
   ]
  },
  {
   "cell_type": "code",
   "execution_count": null,
   "metadata": {
    "scrolled": false
   },
   "outputs": [],
   "source": [
    "sim_model = UnicycleModel()\n",
    "# controller = TrackingController(k0=2.0,k1=2.0)\n",
    "controller = SwitchingController()\n",
    "t0 = 0.0\n",
    "tf = get_end_time(traj)\n",
    "dt = 0.05\n",
    "state_pt = get_trajectory_point_by_time(traj, t0)\n",
    "initial_state = [state_pt.pos.x, state_pt.pos.y, atan(state_pt.heading)] + .1*(1 .- rand(3))\n",
    "states, cmds = simulate(sim_model,controller,traj,initial_state,t0,tf,dt)\n",
    "\n",
    "time_vec = collect(t0:dt:tf);"
   ]
  },
  {
   "cell_type": "code",
   "execution_count": null,
   "metadata": {},
   "outputs": [],
   "source": [
    "set_default_plot_size(25cm,14cm)\n",
    "summarize_simulation(traj,states,cmds,time_vec)"
   ]
  },
  {
   "cell_type": "markdown",
   "metadata": {},
   "source": [
    "# Tracking stationary spinning paths"
   ]
  },
  {
   "cell_type": "code",
   "execution_count": null,
   "metadata": {},
   "outputs": [],
   "source": [
    "c = VecE2(0.0,0.0)\n",
    "r = 0.0\n",
    "θ1 = 0.0\n",
    "w = 1.0\n",
    "dt = 1.0\n",
    "T = 4\n",
    "traj = Trajectory([ArcTrajectory(c,r,θ1+w*(t-1)*dt,w*dt,TimeInterval(dt*(t-1),dt*t)) for t in 1:T])\n",
    "verify(traj)"
   ]
  },
  {
   "cell_type": "code",
   "execution_count": null,
   "metadata": {},
   "outputs": [],
   "source": [
    "sim_model = UnicycleModel()\n",
    "controller = SwitchingController()\n",
    "t0 = 0.0\n",
    "tf = get_end_time(traj)\n",
    "dt = 0.05\n",
    "state_pt = get_trajectory_point_by_time(traj, t0)\n",
    "initial_state = [state_pt.pos.x, state_pt.pos.y, atan(state_pt.heading)] + 1.0*rand(3)\n",
    "states, cmds = simulate(sim_model,controller,traj,initial_state,t0,tf,dt)\n",
    "\n",
    "time_vec = collect(t0:dt:tf)\n",
    "set_default_plot_size(25cm,14cm)\n",
    "summarize_simulation(traj,states,cmds,time_vec)"
   ]
  },
  {
   "cell_type": "markdown",
   "metadata": {},
   "source": [
    "# Track a Multi-Stage Composite Path with a turn-in-place in the middle"
   ]
  },
  {
   "cell_type": "code",
   "execution_count": null,
   "metadata": {},
   "outputs": [],
   "source": [
    "# function stitch_trajectories(traj1::Trajectory,traj2::Trajectory;buffer=[0.0,0.0])\n",
    "#     @assert norm(get_end_pt(traj1) - get_start_pt(traj2)) < 0.000001 \"start and end points do not align\"\n",
    "#     @assert buffer[1]+buffer[2] <= get_start_time(traj2) - get_end_time(traj1)\n",
    "#     θ1 = atan(get_heading(traj1,get_end_time(traj1)))\n",
    "#     θ2 = atan(get_heading(traj2,get_start_time(traj2)))\n",
    "#     Δθ = get_angular_offset(θ1,θ2)\n",
    "#     traj = Trajectory()\n",
    "#     for seg in traj1.segments\n",
    "#         push!(traj, seg)\n",
    "#     end\n",
    "#     push!(traj, WaitTrajectory(\n",
    "#         get_end_pt(traj), \n",
    "#         get_heading(traj,get_end_time(traj)),\n",
    "#         TimeInterval(get_end_time(traj),get_end_time(traj)+buffer[1])) \n",
    "#         )\n",
    "#     push!(traj, PivotTrajectory(\n",
    "#         get_end_pt(traj),\n",
    "#         get_heading(traj,get_end_time(traj)),\n",
    "#         Δθ,TimeInterval(get_end_time(traj),get_start_time(traj2)-buffer[2]))\n",
    "#         )\n",
    "#     push!(traj, WaitTrajectory(\n",
    "#         get_end_pt(traj), \n",
    "#         get_heading(traj,get_end_time(traj)), \n",
    "#         TimeInterval(get_end_time(traj),get_start_time(traj2)))\n",
    "#         )\n",
    "#     for seg in traj2.segments\n",
    "#         push!(traj, seg)\n",
    "#     end\n",
    "#     return traj\n",
    "# end"
   ]
  },
  {
   "cell_type": "code",
   "execution_count": null,
   "metadata": {},
   "outputs": [],
   "source": [
    "cell_width = 1.0\n",
    "transition_time = 2.0\n",
    "grid_path1 = construct_grid_world_path(VecE2(0.0,0.0),0.0,\n",
    "    [SOUTH,EAST,WAIT,NORTH],cell_width,transition_time)\n",
    "traj1 = construct_trajectory(grid_path1)\n",
    "Δt = 2.0 # time between end of traj1 and start of traj2\n",
    "grid_path2 = construct_grid_world_path(get_end_pt(traj1),get_end_time(traj1)+Δt,\n",
    "    [EAST,SOUTH,EAST,WAIT,NORTH],cell_width,transition_time)\n",
    "traj2 = construct_trajectory(grid_path2)\n",
    "\n",
    "base_traj = stitch_trajectories(traj1,traj2;buffer=[0.1,0.1])\n",
    "verify(base_traj)\n",
    "\n",
    "traj, t_vec, accel, vel, pos = optimize_velocity_profile(base_traj;a_max=1.25);"
   ]
  },
  {
   "cell_type": "code",
   "execution_count": null,
   "metadata": {},
   "outputs": [],
   "source": [
    "set_default_plot_size(25cm,8cm)\n",
    "hstack(\n",
    "    plot_traj_with_steps(base_traj,GridWorldPath( grid_path1.start_pt, grid_path1.start_time,\n",
    "            vcat(grid_path1.waypoints,grid_path2.waypoints),cell_width )),\n",
    "    plot_accel_vel_pos(base_traj,traj,t_vec,accel,vel,pos)\n",
    ")"
   ]
  },
  {
   "cell_type": "code",
   "execution_count": null,
   "metadata": {},
   "outputs": [],
   "source": [
    "sim_model = UnicycleModel()\n",
    "controller = SwitchingController(pivoter=PivotController(kw=0.5,kp=2.0))\n",
    "t0 = 0.0\n",
    "tf = get_end_time(traj)\n",
    "dt = 0.05\n",
    "state_pt = get_trajectory_point_by_time(traj, t0)\n",
    "initial_state = [state_pt.pos.x, state_pt.pos.y, atan(state_pt.heading)] + 0.01*rand(3)\n",
    "states, cmds = simulate(sim_model,controller,traj,initial_state,t0,tf,dt)\n",
    "\n",
    "time_vec = collect(t0:dt:tf)\n",
    "set_default_plot_size(25cm,14cm)\n",
    "summarize_simulation(traj,states,cmds,time_vec)"
   ]
  },
  {
   "cell_type": "markdown",
   "metadata": {},
   "source": [
    "# Test PivotController with position offset"
   ]
  },
  {
   "cell_type": "code",
   "execution_count": null,
   "metadata": {},
   "outputs": [],
   "source": [
    "t0 = 0.0; tf = 3.0; dt=0.01;\n",
    "state = [-0.5,0.5,0.0]\n",
    "Δθ = π/2\n",
    "traj = PivotTrajectory(VecE2(0.0,0.0),VecE2(1.0,0.0),Δθ,TimeInterval(t0,tf))\n",
    "controller = PivotController(kw=0.5,kp=2.0)\n",
    "\n",
    "time_vec = collect(t0:dt:tf)\n",
    "states, cmds = simulate(sim_model,controller,traj,state,t0,tf,dt);\n",
    "set_default_plot_size(25cm,14cm)\n",
    "summarize_simulation(traj,states,cmds,time_vec)"
   ]
  },
  {
   "cell_type": "markdown",
   "metadata": {},
   "source": [
    "# Test StabilizeController"
   ]
  },
  {
   "cell_type": "code",
   "execution_count": null,
   "metadata": {},
   "outputs": [],
   "source": [
    "# function GridWorldPathFollowing.get_action(controller::StabilizeController,target::Vector{Float64},ff::Vector{Float64},state::Vector{Float64},t::Float64)\n",
    "#     # println(\"get_action(controller::StabilizeController,target::Vector{Float64},ff::Vector{Float64},state::Vector{Float64},t::Float64)\")\n",
    "#     kw = controller.kw\n",
    "#     kp = controller.kp\n",
    "#     kϕ = 15.0\n",
    "#     # state (global frame)\n",
    "#     x,y,θ = state[1],state[2],state[3]\n",
    "#     # reference (global frame)\n",
    "#     xr,yr,θr = target[1],target[2],target[3]\n",
    "#     wr,vr = ff[1],ff[2]\n",
    "#     # control law\n",
    "#     dx = xr-x\n",
    "#     dy = yr-y\n",
    "#     dp = dot([dx,dy],[cos(θ),sin(θ)]) # distance to target position projected onto heading vector\n",
    "#     dθ = ([cos(θ),sin(θ),0] × [cos(θr),sin(θr),0])[end] # heading error\n",
    "#     ϕ = atan(dy,dx)\n",
    "#     dϕ = ([cos(θ),sin(θ),0] × [cos(ϕ),sin(ϕ),0])[end] # angular displacement from target position\n",
    "#     w = wr + kϕ*dϕ*norm([dx,dy]) + kw*dθ\n",
    "#     w = wr + kϕ*dϕ*dp + kw*dθ\n",
    "#     v = vr + kp*dp\n",
    "#     return [w, v]\n",
    "# end"
   ]
  },
  {
   "cell_type": "code",
   "execution_count": null,
   "metadata": {},
   "outputs": [],
   "source": [
    "t0 = 0.0; tf = 2.5; dt=0.01;\n",
    "state = [0.5,-0.5,0]\n",
    "traj = WaitTrajectory(VecE2(0.0,0.0),VecE2(0.0,1.0),TimeInterval(t0,tf))\n",
    "controller = StabilizeController(kw=2.0,kp=4.0)\n",
    "\n",
    "time_vec = collect(t0:dt:tf)\n",
    "states, cmds = simulate(sim_model,controller,traj,state,t0,tf,dt);\n",
    "set_default_plot_size(25cm,14cm)\n",
    "summarize_simulation(traj,states,cmds,time_vec)"
   ]
  },
  {
   "cell_type": "code",
   "execution_count": null,
   "metadata": {},
   "outputs": [],
   "source": []
  }
 ],
 "metadata": {
  "@webio": {
   "lastCommId": null,
   "lastKernelId": null
  },
  "kernelspec": {
   "display_name": "Julia 1.0.2",
   "language": "julia",
   "name": "julia-1.0"
  },
  "language_info": {
   "file_extension": ".jl",
   "mimetype": "application/julia",
   "name": "julia",
   "version": "1.0.2"
  }
 },
 "nbformat": 4,
 "nbformat_minor": 2
}
